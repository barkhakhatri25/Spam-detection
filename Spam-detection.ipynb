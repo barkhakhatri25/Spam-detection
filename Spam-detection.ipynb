{
 "cells": [
  {
   "cell_type": "code",
   "execution_count": 1,
   "id": "0f989516",
   "metadata": {},
   "outputs": [],
   "source": [
    "import pandas as pd\n",
    "import matplotlib.pyplot as plt\n",
    "import numpy as np\n"
   ]
  },
  {
   "cell_type": "code",
   "execution_count": 3,
   "id": "0b26dc62",
   "metadata": {},
   "outputs": [
    {
     "data": {
      "text/html": [
       "<div>\n",
       "<style scoped>\n",
       "    .dataframe tbody tr th:only-of-type {\n",
       "        vertical-align: middle;\n",
       "    }\n",
       "\n",
       "    .dataframe tbody tr th {\n",
       "        vertical-align: top;\n",
       "    }\n",
       "\n",
       "    .dataframe thead th {\n",
       "        text-align: right;\n",
       "    }\n",
       "</style>\n",
       "<table border=\"1\" class=\"dataframe\">\n",
       "  <thead>\n",
       "    <tr style=\"text-align: right;\">\n",
       "      <th></th>\n",
       "      <th>Category</th>\n",
       "      <th>Message</th>\n",
       "    </tr>\n",
       "  </thead>\n",
       "  <tbody>\n",
       "    <tr>\n",
       "      <th>0</th>\n",
       "      <td>ham</td>\n",
       "      <td>Go until jurong point, crazy.. Available only ...</td>\n",
       "    </tr>\n",
       "    <tr>\n",
       "      <th>1</th>\n",
       "      <td>ham</td>\n",
       "      <td>Ok lar... Joking wif u oni...</td>\n",
       "    </tr>\n",
       "    <tr>\n",
       "      <th>2</th>\n",
       "      <td>spam</td>\n",
       "      <td>Free entry in 2 a wkly comp to win FA Cup fina...</td>\n",
       "    </tr>\n",
       "    <tr>\n",
       "      <th>3</th>\n",
       "      <td>ham</td>\n",
       "      <td>U dun say so early hor... U c already then say...</td>\n",
       "    </tr>\n",
       "    <tr>\n",
       "      <th>4</th>\n",
       "      <td>ham</td>\n",
       "      <td>Nah I don't think he goes to usf, he lives aro...</td>\n",
       "    </tr>\n",
       "  </tbody>\n",
       "</table>\n",
       "</div>"
      ],
      "text/plain": [
       "  Category                                            Message\n",
       "0      ham  Go until jurong point, crazy.. Available only ...\n",
       "1      ham                      Ok lar... Joking wif u oni...\n",
       "2     spam  Free entry in 2 a wkly comp to win FA Cup fina...\n",
       "3      ham  U dun say so early hor... U c already then say...\n",
       "4      ham  Nah I don't think he goes to usf, he lives aro..."
      ]
     },
     "execution_count": 3,
     "metadata": {},
     "output_type": "execute_result"
    }
   ],
   "source": [
    "df = pd.read_csv('SPAM text_msg.csv')\n",
    "df.head()"
   ]
  },
  {
   "cell_type": "code",
   "execution_count": 4,
   "id": "55924078",
   "metadata": {},
   "outputs": [
    {
     "name": "stdout",
     "output_type": "stream",
     "text": [
      "<class 'pandas.core.frame.DataFrame'>\n",
      "RangeIndex: 5572 entries, 0 to 5571\n",
      "Data columns (total 2 columns):\n",
      " #   Column    Non-Null Count  Dtype \n",
      "---  ------    --------------  ----- \n",
      " 0   Category  5572 non-null   object\n",
      " 1   Message   5572 non-null   object\n",
      "dtypes: object(2)\n",
      "memory usage: 87.2+ KB\n"
     ]
    }
   ],
   "source": [
    "df.info()"
   ]
  },
  {
   "cell_type": "code",
   "execution_count": null,
   "id": "31a23e4e",
   "metadata": {},
   "outputs": [],
   "source": []
  },
  {
   "cell_type": "markdown",
   "id": "78d5487c",
   "metadata": {},
   "source": [
    "### count the number of ham and spam category"
   ]
  },
  {
   "cell_type": "code",
   "execution_count": 30,
   "id": "94736e94",
   "metadata": {
    "scrolled": false
   },
   "outputs": [
    {
     "name": "stdout",
     "output_type": "stream",
     "text": [
      "4825\n",
      "747\n"
     ]
    },
    {
     "data": {
      "text/html": [
       "<div>\n",
       "<style scoped>\n",
       "    .dataframe tbody tr th:only-of-type {\n",
       "        vertical-align: middle;\n",
       "    }\n",
       "\n",
       "    .dataframe tbody tr th {\n",
       "        vertical-align: top;\n",
       "    }\n",
       "\n",
       "    .dataframe thead tr th {\n",
       "        text-align: left;\n",
       "    }\n",
       "\n",
       "    .dataframe thead tr:last-of-type th {\n",
       "        text-align: right;\n",
       "    }\n",
       "</style>\n",
       "<table border=\"1\" class=\"dataframe\">\n",
       "  <thead>\n",
       "    <tr>\n",
       "      <th></th>\n",
       "      <th colspan=\"4\" halign=\"left\">Message</th>\n",
       "    </tr>\n",
       "    <tr>\n",
       "      <th></th>\n",
       "      <th>count</th>\n",
       "      <th>unique</th>\n",
       "      <th>top</th>\n",
       "      <th>freq</th>\n",
       "    </tr>\n",
       "    <tr>\n",
       "      <th>Category</th>\n",
       "      <th></th>\n",
       "      <th></th>\n",
       "      <th></th>\n",
       "      <th></th>\n",
       "    </tr>\n",
       "  </thead>\n",
       "  <tbody>\n",
       "    <tr>\n",
       "      <th>ham</th>\n",
       "      <td>4825</td>\n",
       "      <td>4516</td>\n",
       "      <td>Sorry, I'll call later</td>\n",
       "      <td>30</td>\n",
       "    </tr>\n",
       "    <tr>\n",
       "      <th>spam</th>\n",
       "      <td>747</td>\n",
       "      <td>641</td>\n",
       "      <td>Please call our customer service representativ...</td>\n",
       "      <td>4</td>\n",
       "    </tr>\n",
       "  </tbody>\n",
       "</table>\n",
       "</div>"
      ],
      "text/plain": [
       "         Message                                                            \\\n",
       "           count unique                                                top   \n",
       "Category                                                                     \n",
       "ham         4825   4516                             Sorry, I'll call later   \n",
       "spam         747    641  Please call our customer service representativ...   \n",
       "\n",
       "               \n",
       "         freq  \n",
       "Category       \n",
       "ham        30  \n",
       "spam        4  "
      ]
     },
     "execution_count": 30,
     "metadata": {},
     "output_type": "execute_result"
    }
   ],
   "source": [
    "num_ham = 0 \n",
    "num_spam =  0 \n",
    "for i in range(len(df)):\n",
    "    if df['Category'][i] == 'ham':\n",
    "        num_ham = num_ham+1\n",
    "    else:\n",
    "        num_spam = num_spam+1\n",
    "print(num_ham)\n",
    "print(num_spam)\n",
    "\n",
    "\n",
    "# ##########################\n",
    "df.groupby('Category').describe()"
   ]
  },
  {
   "cell_type": "markdown",
   "id": "9ef4eb1d",
   "metadata": {},
   "source": [
    "#### Here we see tha the data is not in balance format so we need to balance it \n"
   ]
  },
  {
   "cell_type": "code",
   "execution_count": null,
   "id": "2dc486b7",
   "metadata": {},
   "outputs": [],
   "source": []
  },
  {
   "cell_type": "markdown",
   "id": "f4d0be3a",
   "metadata": {},
   "source": [
    "### Here we convert the category in to 0 , 1\n",
    "### Ham = 0\n",
    "### spam = 1"
   ]
  },
  {
   "cell_type": "code",
   "execution_count": 34,
   "id": "587c7c0b",
   "metadata": {
    "scrolled": true
   },
   "outputs": [
    {
     "data": {
      "text/html": [
       "<div>\n",
       "<style scoped>\n",
       "    .dataframe tbody tr th:only-of-type {\n",
       "        vertical-align: middle;\n",
       "    }\n",
       "\n",
       "    .dataframe tbody tr th {\n",
       "        vertical-align: top;\n",
       "    }\n",
       "\n",
       "    .dataframe thead th {\n",
       "        text-align: right;\n",
       "    }\n",
       "</style>\n",
       "<table border=\"1\" class=\"dataframe\">\n",
       "  <thead>\n",
       "    <tr style=\"text-align: right;\">\n",
       "      <th></th>\n",
       "      <th>Category</th>\n",
       "      <th>Message</th>\n",
       "      <th>label</th>\n",
       "    </tr>\n",
       "  </thead>\n",
       "  <tbody>\n",
       "    <tr>\n",
       "      <th>0</th>\n",
       "      <td>ham</td>\n",
       "      <td>Go until jurong point, crazy.. Available only ...</td>\n",
       "      <td>0</td>\n",
       "    </tr>\n",
       "    <tr>\n",
       "      <th>1</th>\n",
       "      <td>ham</td>\n",
       "      <td>Ok lar... Joking wif u oni...</td>\n",
       "      <td>0</td>\n",
       "    </tr>\n",
       "    <tr>\n",
       "      <th>2</th>\n",
       "      <td>spam</td>\n",
       "      <td>Free entry in 2 a wkly comp to win FA Cup fina...</td>\n",
       "      <td>1</td>\n",
       "    </tr>\n",
       "    <tr>\n",
       "      <th>3</th>\n",
       "      <td>ham</td>\n",
       "      <td>U dun say so early hor... U c already then say...</td>\n",
       "      <td>0</td>\n",
       "    </tr>\n",
       "    <tr>\n",
       "      <th>4</th>\n",
       "      <td>ham</td>\n",
       "      <td>Nah I don't think he goes to usf, he lives aro...</td>\n",
       "      <td>0</td>\n",
       "    </tr>\n",
       "  </tbody>\n",
       "</table>\n",
       "</div>"
      ],
      "text/plain": [
       "  Category                                            Message  label\n",
       "0      ham  Go until jurong point, crazy.. Available only ...      0\n",
       "1      ham                      Ok lar... Joking wif u oni...      0\n",
       "2     spam  Free entry in 2 a wkly comp to win FA Cup fina...      1\n",
       "3      ham  U dun say so early hor... U c already then say...      0\n",
       "4      ham  Nah I don't think he goes to usf, he lives aro...      0"
      ]
     },
     "execution_count": 34,
     "metadata": {},
     "output_type": "execute_result"
    }
   ],
   "source": [
    "df['label'] = pd.get_dummies(df['Category'] , drop_first=True)\n",
    "df.head()"
   ]
  },
  {
   "cell_type": "code",
   "execution_count": 35,
   "id": "49171ae4",
   "metadata": {},
   "outputs": [],
   "source": [
    "X = df['Message']\n",
    "y = df['label']"
   ]
  },
  {
   "cell_type": "code",
   "execution_count": 37,
   "id": "b951a61e",
   "metadata": {},
   "outputs": [
    {
     "data": {
      "text/plain": [
       "(0    Go until jurong point, crazy.. Available only ...\n",
       " 1                        Ok lar... Joking wif u oni...\n",
       " 2    Free entry in 2 a wkly comp to win FA Cup fina...\n",
       " 3    U dun say so early hor... U c already then say...\n",
       " 4    Nah I don't think he goes to usf, he lives aro...\n",
       " Name: Message, dtype: object,\n",
       " 0    0\n",
       " 1    0\n",
       " 2    1\n",
       " 3    0\n",
       " 4    0\n",
       " Name: label, dtype: uint8)"
      ]
     },
     "execution_count": 37,
     "metadata": {},
     "output_type": "execute_result"
    }
   ],
   "source": [
    "X[:5]   , y[:5]"
   ]
  },
  {
   "cell_type": "code",
   "execution_count": 38,
   "id": "c0434b4e",
   "metadata": {},
   "outputs": [],
   "source": [
    "import tensorflow as tf\n",
    "from tensorflow.keras.layers import Embedding\n",
    "from tensorflow.keras.preprocessing.sequence import pad_sequences\n",
    "from tensorflow.keras.models import Sequential\n",
    "from tensorflow.keras.preprocessing.text import one_hot\n",
    "from tensorflow.keras.layers import LSTM\n",
    "from tensorflow.keras.layers import Dense"
   ]
  },
  {
   "cell_type": "code",
   "execution_count": 25,
   "id": "208d09fe",
   "metadata": {},
   "outputs": [],
   "source": [
    "### Vocabulary size \n",
    "voc_size = 5000"
   ]
  },
  {
   "cell_type": "code",
   "execution_count": 46,
   "id": "512ac821",
   "metadata": {},
   "outputs": [
    {
     "data": {
      "text/plain": [
       "0       Go until jurong point, crazy.. Available only ...\n",
       "1                           Ok lar... Joking wif u oni...\n",
       "2       Free entry in 2 a wkly comp to win FA Cup fina...\n",
       "3       U dun say so early hor... U c already then say...\n",
       "4       Nah I don't think he goes to usf, he lives aro...\n",
       "                              ...                        \n",
       "5567    This is the 2nd time we have tried 2 contact u...\n",
       "5568                 Will ü b going to esplanade fr home?\n",
       "5569    Pity, * was in mood for that. So...any other s...\n",
       "5570    The guy did some bitching but I acted like i'd...\n",
       "5571                           Rofl. Its true to its name\n",
       "Name: Message, Length: 5572, dtype: object"
      ]
     },
     "execution_count": 46,
     "metadata": {},
     "output_type": "execute_result"
    }
   ],
   "source": [
    "messages = X.copy()\n",
    "messages"
   ]
  },
  {
   "cell_type": "code",
   "execution_count": 41,
   "id": "1e114dd0",
   "metadata": {},
   "outputs": [],
   "source": [
    "import nltk\n",
    "import re\n",
    "from nltk.corpus import stopwords\n",
    "from nltk.stem.porter import PorterStemmer"
   ]
  },
  {
   "cell_type": "code",
   "execution_count": 47,
   "id": "cf23e3ad",
   "metadata": {},
   "outputs": [],
   "source": [
    "### Data cleaning \n",
    "\n",
    "ps = PorterStemmer()\n",
    "clean_Data = []\n",
    "for i in range(0, len(messages)):\n",
    "#     print(i)\n",
    "    review = re.sub('[^a-zA-Z]', ' ', messages[i])\n",
    "    review = review.lower()\n",
    "    review = review.split()\n",
    "    \n",
    "    review = [ps.stem(word) for word in review if not word in stopwords.words('english')]\n",
    "    review = ' '.join(review)\n",
    "    clean_Data.append(review)\n"
   ]
  },
  {
   "cell_type": "code",
   "execution_count": 49,
   "id": "71375112",
   "metadata": {},
   "outputs": [
    {
     "data": {
      "text/plain": [
       "['go jurong point crazi avail bugi n great world la e buffet cine got amor wat',\n",
       " 'ok lar joke wif u oni',\n",
       " 'free entri wkli comp win fa cup final tkt st may text fa receiv entri question std txt rate c appli',\n",
       " 'u dun say earli hor u c alreadi say',\n",
       " 'nah think goe usf live around though',\n",
       " 'freemsg hey darl week word back like fun still tb ok xxx std chg send rcv',\n",
       " 'even brother like speak treat like aid patent',\n",
       " 'per request mell mell oru minnaminungint nurungu vettam set callertun caller press copi friend callertun',\n",
       " 'winner valu network custom select receivea prize reward claim call claim code kl valid hour',\n",
       " 'mobil month u r entitl updat latest colour mobil camera free call mobil updat co free']"
      ]
     },
     "execution_count": 49,
     "metadata": {},
     "output_type": "execute_result"
    }
   ],
   "source": [
    "clean_Data[0:10]"
   ]
  },
  {
   "cell_type": "code",
   "execution_count": 50,
   "id": "47bd4ae8",
   "metadata": {},
   "outputs": [
    {
     "data": {
      "text/plain": [
       "[[1070, 4710, 2330, 1948, 4357, 1910],\n",
       " [3436,\n",
       "  4393,\n",
       "  4195,\n",
       "  4650,\n",
       "  4778,\n",
       "  2713,\n",
       "  3686,\n",
       "  2550,\n",
       "  3729,\n",
       "  2348,\n",
       "  4131,\n",
       "  4847,\n",
       "  2713,\n",
       "  217,\n",
       "  4393,\n",
       "  3658,\n",
       "  2827,\n",
       "  2378,\n",
       "  762,\n",
       "  4389,\n",
       "  24],\n",
       " [4357, 3449, 4909, 2265, 3047, 4357, 4389, 3632, 4909],\n",
       " [2122, 1145, 2639, 1451, 4080, 1253, 4925],\n",
       " [3403,\n",
       "  3396,\n",
       "  1553,\n",
       "  671,\n",
       "  837,\n",
       "  1870,\n",
       "  3282,\n",
       "  1476,\n",
       "  4355,\n",
       "  4717,\n",
       "  1070,\n",
       "  3059,\n",
       "  2827,\n",
       "  2429,\n",
       "  296,\n",
       "  1015],\n",
       " [2823, 3493, 3282, 3554, 1455, 3282, 2634, 800],\n",
       " [55,\n",
       "  289,\n",
       "  1877,\n",
       "  1877,\n",
       "  676,\n",
       "  4345,\n",
       "  2477,\n",
       "  642,\n",
       "  3256,\n",
       "  685,\n",
       "  1941,\n",
       "  2943,\n",
       "  2503,\n",
       "  2805,\n",
       "  685],\n",
       " [1198,\n",
       "  4257,\n",
       "  2607,\n",
       "  2532,\n",
       "  1871,\n",
       "  4589,\n",
       "  25,\n",
       "  4406,\n",
       "  2704,\n",
       "  869,\n",
       "  2704,\n",
       "  733,\n",
       "  800,\n",
       "  4204,\n",
       "  4409],\n",
       " [4986,\n",
       "  1720,\n",
       "  4357,\n",
       "  1134,\n",
       "  4829,\n",
       "  3041,\n",
       "  573,\n",
       "  1289,\n",
       "  4986,\n",
       "  1456,\n",
       "  3436,\n",
       "  869,\n",
       "  4986,\n",
       "  3041,\n",
       "  4227,\n",
       "  3436]]"
      ]
     },
     "execution_count": 50,
     "metadata": {},
     "output_type": "execute_result"
    }
   ],
   "source": [
    "# convert in one hot encoding \n",
    "\n",
    "onehot_rep = [one_hot(word,voc_size) for word in clean_Data]\n",
    "onehot_rep[1:10]"
   ]
  },
  {
   "cell_type": "code",
   "execution_count": 52,
   "id": "f2bd88f6",
   "metadata": {},
   "outputs": [
    {
     "name": "stdout",
     "output_type": "stream",
     "text": [
      "[[   0    0    0 ... 4893  303 3265]\n",
      " [   0    0    0 ... 1948 4357 1910]\n",
      " [   0    0    0 ...  762 4389   24]\n",
      " ...\n",
      " [   0    0    0 ... 3905  522 4520]\n",
      " [   0    0    0 ... 4875   76 3436]\n",
      " [   0    0    0 ...  476 4673 1914]]\n"
     ]
    }
   ],
   "source": [
    "#  Embeding representations\n",
    "\n",
    "# pad_sequence \n",
    "sent_length = 25\n",
    "embedded_docs = pad_sequences(onehot_rep , padding = 'pre' , maxlen=sent_length )\n",
    "\n",
    "print(embedded_docs)"
   ]
  },
  {
   "cell_type": "code",
   "execution_count": 53,
   "id": "6f880ba7",
   "metadata": {},
   "outputs": [
    {
     "name": "stdout",
     "output_type": "stream",
     "text": [
      "Model: \"sequential\"\n",
      "_________________________________________________________________\n",
      " Layer (type)                Output Shape              Param #   \n",
      "=================================================================\n",
      " embedding (Embedding)       (None, 25, 50)            250000    \n",
      "                                                                 \n",
      " lstm (LSTM)                 (None, 100)               60400     \n",
      "                                                                 \n",
      " dense (Dense)               (None, 1)                 101       \n",
      "                                                                 \n",
      "=================================================================\n",
      "Total params: 310,501\n",
      "Trainable params: 310,501\n",
      "Non-trainable params: 0\n",
      "_________________________________________________________________\n"
     ]
    }
   ],
   "source": [
    "#  creating model\n",
    "embeding_vector_feature = 50 \n",
    "model = Sequential()\n",
    "model.add(Embedding(voc_size , embeding_vector_feature , input_length=sent_length))\n",
    "model.add(LSTM(100))    #m  100 is number of nerons\n",
    "model.add(Dense(1 , activation='sigmoid'))\n",
    "model.compile(loss='binary_crossentropy' , optimizer='adam' , metrics=['accuracy'])\n",
    "model.summary()"
   ]
  },
  {
   "cell_type": "code",
   "execution_count": 54,
   "id": "c18157db",
   "metadata": {},
   "outputs": [],
   "source": [
    "import numpy as np\n",
    "X_final=np.array(embedded_docs)\n",
    "y_final=np.array(y)"
   ]
  },
  {
   "cell_type": "code",
   "execution_count": 55,
   "id": "12462d76",
   "metadata": {},
   "outputs": [],
   "source": [
    "from sklearn.model_selection import train_test_split\n",
    "X_train, X_test, y_train, y_test = train_test_split(X_final, y_final, test_size=0.33, random_state=42)\n"
   ]
  },
  {
   "cell_type": "code",
   "execution_count": 56,
   "id": "d583702d",
   "metadata": {},
   "outputs": [
    {
     "name": "stdout",
     "output_type": "stream",
     "text": [
      "Epoch 1/10\n",
      "59/59 [==============================] - 8s 55ms/step - loss: 0.3458 - accuracy: 0.8714 - val_loss: 0.1601 - val_accuracy: 0.9723\n",
      "Epoch 2/10\n",
      "59/59 [==============================] - 2s 41ms/step - loss: 0.0887 - accuracy: 0.9772 - val_loss: 0.0647 - val_accuracy: 0.9848\n",
      "Epoch 3/10\n",
      "59/59 [==============================] - 2s 41ms/step - loss: 0.0346 - accuracy: 0.9898 - val_loss: 0.0493 - val_accuracy: 0.9880\n",
      "Epoch 4/10\n",
      "59/59 [==============================] - 3s 45ms/step - loss: 0.0207 - accuracy: 0.9941 - val_loss: 0.0485 - val_accuracy: 0.9859\n",
      "Epoch 5/10\n",
      "59/59 [==============================] - 3s 45ms/step - loss: 0.0107 - accuracy: 0.9976 - val_loss: 0.0562 - val_accuracy: 0.9831\n",
      "Epoch 6/10\n",
      "59/59 [==============================] - 3s 54ms/step - loss: 0.0077 - accuracy: 0.9981 - val_loss: 0.0517 - val_accuracy: 0.9842\n",
      "Epoch 7/10\n",
      "59/59 [==============================] - 3s 46ms/step - loss: 0.0058 - accuracy: 0.9989 - val_loss: 0.0601 - val_accuracy: 0.9848\n",
      "Epoch 8/10\n",
      "59/59 [==============================] - 2s 41ms/step - loss: 0.0041 - accuracy: 0.9989 - val_loss: 0.0638 - val_accuracy: 0.9848\n",
      "Epoch 9/10\n",
      "59/59 [==============================] - 2s 40ms/step - loss: 0.0035 - accuracy: 0.9995 - val_loss: 0.0624 - val_accuracy: 0.9799\n",
      "Epoch 10/10\n",
      "59/59 [==============================] - 2s 40ms/step - loss: 0.0030 - accuracy: 0.9995 - val_loss: 0.0585 - val_accuracy: 0.9891\n"
     ]
    },
    {
     "data": {
      "text/plain": [
       "<keras.callbacks.History at 0x1c990b86160>"
      ]
     },
     "execution_count": 56,
     "metadata": {},
     "output_type": "execute_result"
    }
   ],
   "source": [
    "model.fit(X_train , y_train , validation_data=(X_test , y_test) , epochs = 10 ,batch_size=64)"
   ]
  },
  {
   "cell_type": "code",
   "execution_count": 57,
   "id": "9353e456",
   "metadata": {},
   "outputs": [],
   "source": [
    "y_pred=model.predict(X_test)\n",
    "y_pred = y_pred.round()"
   ]
  },
  {
   "cell_type": "code",
   "execution_count": 58,
   "id": "cea83d07",
   "metadata": {},
   "outputs": [
    {
     "data": {
      "text/plain": [
       "array([[1591,    2],\n",
       "       [  18,  228]], dtype=int64)"
      ]
     },
     "execution_count": 58,
     "metadata": {},
     "output_type": "execute_result"
    }
   ],
   "source": [
    "from sklearn.metrics import confusion_matrix\n",
    "confusion_matrix(y_test,y_pred)\n"
   ]
  },
  {
   "cell_type": "code",
   "execution_count": 60,
   "id": "6f9a2928",
   "metadata": {},
   "outputs": [
    {
     "data": {
      "text/plain": [
       "0.9891245241979336"
      ]
     },
     "execution_count": 60,
     "metadata": {},
     "output_type": "execute_result"
    }
   ],
   "source": [
    "from sklearn.metrics import accuracy_score\n",
    "accuracy_score(y_test,y_pred)\n"
   ]
  },
  {
   "cell_type": "markdown",
   "id": "f8bc6f9b",
   "metadata": {},
   "source": [
    "## Create function that Predict the sentance that is reliable or not "
   ]
  },
  {
   "cell_type": "code",
   "execution_count": 64,
   "id": "85c6d6ec",
   "metadata": {},
   "outputs": [],
   "source": [
    "def predict_sentance(str1):\n",
    "#     clean the sentance\n",
    "    review = re.sub('[^a-zA-Z]', ' ', str1)\n",
    "    review = review.lower()\n",
    "    review = review.split()   \n",
    "    review = [ps.stem(word) for word in review if not word in stopwords.words('english')]\n",
    "    review = ' '.join(review)\n",
    "    # one_hot representation \n",
    "    t1 = [one_hot(review , voc_size)]\n",
    "    # # pad_sequences \n",
    "    t1_doc = pad_sequences(t1 , padding = 'pre' , maxlen = 25)\n",
    "    predict = model.predict(t1_doc).round()\n",
    "    print(predict)\n",
    "    if predict == 1.0 :\n",
    "        print(\"Spam \" , predict)\n",
    "    else:\n",
    "        print(\"Ham \" , predict)"
   ]
  },
  {
   "cell_type": "code",
   "execution_count": 70,
   "id": "c44c01e4",
   "metadata": {},
   "outputs": [
    {
     "name": "stdout",
     "output_type": "stream",
     "text": [
      "[[1.]]\n",
      "Spam  [[1.]]\n"
     ]
    }
   ],
   "source": [
    "t1 = 'please call our customer services center imediatlt '\n",
    "predict_sentance(t1)"
   ]
  },
  {
   "cell_type": "code",
   "execution_count": 72,
   "id": "5738f0fe",
   "metadata": {},
   "outputs": [
    {
     "name": "stdout",
     "output_type": "stream",
     "text": [
      "[[0.]]\n",
      "Ham  [[0.]]\n"
     ]
    }
   ],
   "source": [
    "t2 = 'can i call you later '\n",
    "predict_sentance(t2)"
   ]
  },
  {
   "cell_type": "code",
   "execution_count": null,
   "id": "6cc3a2a2",
   "metadata": {},
   "outputs": [],
   "source": []
  }
 ],
 "metadata": {
  "kernelspec": {
   "display_name": "Python 3 (ipykernel)",
   "language": "python",
   "name": "python3"
  },
  "language_info": {
   "codemirror_mode": {
    "name": "ipython",
    "version": 3
   },
   "file_extension": ".py",
   "mimetype": "text/x-python",
   "name": "python",
   "nbconvert_exporter": "python",
   "pygments_lexer": "ipython3",
   "version": "3.8.13"
  }
 },
 "nbformat": 4,
 "nbformat_minor": 5
}
